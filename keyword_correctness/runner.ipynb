{
 "cells": [
  {
   "cell_type": "code",
   "execution_count": null,
   "metadata": {},
   "outputs": [],
   "source": [
    "%load_ext autoreload\n",
    "%autoreload 2\n",
    "\n",
    "import os\n",
    "from dotenv import load_dotenv\n",
    "load_dotenv()\n",
    "\n",
    "import sys\n",
    "sys.path.append('./../common')\n",
    "\n",
    "## AML Related variables\n",
    "runtime_in_cloud = os.environ.get(\"RUNTIME_IN_CLOUD\")\n",
    "run_tag = os.environ.get(\"RUN_NAME_TAG\")\n",
    "## Local variables"
   ]
  },
  {
   "cell_type": "code",
   "execution_count": null,
   "metadata": {},
   "outputs": [],
   "source": [
    "### Initialize Variables\n",
    "cloud_run = True #set to True if running in cloud\n",
    "\n",
    "data_id=\"../keyword_correctness/data/experiment/sample_input_5records.jsonl\"\n",
    "tags={\"data_id\": data_id}"
   ]
  },
  {
   "cell_type": "code",
   "execution_count": null,
   "metadata": {},
   "outputs": [],
   "source": [
    "from pf_sdk_utils import PromptFlowUtils\n",
    "import sys\n",
    "\n",
    "pf_utils = PromptFlowUtils()\n",
    "pf_utils.initialize_pf_client(cloud = cloud_run)"
   ]
  },
  {
   "cell_type": "code",
   "execution_count": null,
   "metadata": {},
   "outputs": [],
   "source": [
    "# Executed_runs could be a list of strings or a list of Run objects from PromptFlow\n",
    "# cloud_run signifies if the run is in cloud or local\n",
    "def download_or_display_outputs(executed_runs, ran_in_cloud):\n",
    "    if(ran_in_cloud):\n",
    "        from output_utils import download_output\n",
    "        output_runs_dir = \"./runs\"\n",
    "        for run in executed_runs:\n",
    "            if isinstance(run, str):\n",
    "                output_file_path = f\"{output_runs_dir}/{run}\"\n",
    "            else:\n",
    "                output_file_path = f\"{output_runs_dir}/{run.name}\"\n",
    "            download_output(run,output_file_path)\n",
    "    else:\n",
    "        pf_utils.display_local_runs(executed_runs)"
   ]
  },
  {
   "cell_type": "code",
   "execution_count": null,
   "metadata": {},
   "outputs": [],
   "source": [
    "from entities import Run\n",
    "from flow_definitions import experiment_4_1_flow, experiment_4_2_flow, evaluation_flow\n",
    "from datetime import datetime\n",
    "\n",
    "timestamp = datetime.now().strftime('%d%H%M%S') \n",
    "variants = experiment_4_1_flow.variants\n",
    "\n",
    "current_run_4_1 = Run(flow = experiment_4_1_flow, tags=tags, \n",
    "                  runtime=runtime_in_cloud, data_id=data_id, \n",
    "                  linked_runs=[],\n",
    "                  variants=variants, run_suffix=timestamp, env_vars = {\"PF_WORKER_COUNT\": \"5\"})\n",
    "\n",
    "executed_runs_4_1 = pf_utils.execute(current_run = current_run_4_1)\n",
    "\n",
    "allPassed = pf_utils.wait_for_run_completion(executed_runs_4_1)\n",
    "if not allPassed:\n",
    "    sys.exit(1)\n"
   ]
  },
  {
   "cell_type": "code",
   "execution_count": null,
   "metadata": {},
   "outputs": [],
   "source": [
    "run_names_4_1 = [run.name for run in executed_runs_4_1]\n",
    "current_run_4_2 = Run(flow = experiment_4_2_flow, tags=tags, \n",
    "                  runtime=runtime_in_cloud,\n",
    "                  linked_runs=run_names_4_1,\n",
    "                  variants=variants, run_suffix=timestamp)\n",
    "\n",
    "executed_runs_4_2 = pf_utils.execute(current_run = current_run_4_2)\n",
    "\n",
    "allPassed = pf_utils.wait_for_run_completion(executed_runs_4_2)\n",
    "if not allPassed:\n",
    "    sys.exit(1)"
   ]
  },
  {
   "cell_type": "code",
   "execution_count": null,
   "metadata": {},
   "outputs": [],
   "source": [
    "run_names_4_2 = [run.name for run in executed_runs_4_2]\n",
    "eval_run = Run(flow = evaluation_flow, tags=tags, \n",
    "                  runtime=runtime_in_cloud,\n",
    "                  linked_runs=run_names_4_2,\n",
    "                  variants=variants, run_suffix=timestamp)\n",
    "\n",
    "eval_runs = pf_utils.execute(current_run = eval_run)\n",
    "allPassed = pf_utils.wait_for_run_completion(eval_runs)\n",
    "if not allPassed:\n",
    "    sys.exit(1)"
   ]
  },
  {
   "cell_type": "code",
   "execution_count": null,
   "metadata": {},
   "outputs": [],
   "source": [
    "download_or_display_outputs(executed_runs_4_1, cloud_run)\n",
    "download_or_display_outputs(executed_runs_4_2, cloud_run)\n",
    "download_or_display_outputs(eval_runs, cloud_run)"
   ]
  }
 ],
 "metadata": {
  "kernelspec": {
   "display_name": ".venv",
   "language": "python",
   "name": "python3"
  },
  "language_info": {
   "codemirror_mode": {
    "name": "ipython",
    "version": 3
   },
   "file_extension": ".py",
   "mimetype": "text/x-python",
   "name": "python",
   "nbconvert_exporter": "python",
   "pygments_lexer": "ipython3",
   "version": "3.11.9"
  }
 },
 "nbformat": 4,
 "nbformat_minor": 2
}
